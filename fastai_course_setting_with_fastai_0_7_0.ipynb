{
  "nbformat": 4,
  "nbformat_minor": 0,
  "metadata": {
    "colab": {
      "name": "fastai course setting with fastai 0.7.0.ipynb",
      "version": "0.3.2",
      "provenance": [],
      "include_colab_link": true
    },
    "kernelspec": {
      "name": "python3",
      "display_name": "Python 3"
    },
    "accelerator": "GPU"
  },
  "cells": [
    {
      "cell_type": "markdown",
      "metadata": {
        "id": "view-in-github",
        "colab_type": "text"
      },
      "source": [
        "<a href=\"https://colab.research.google.com/github/asakoRaven/JupyterWorkflow/blob/master/fastai_course_setting_with_fastai_0_7_0.ipynb\" target=\"_parent\"><img src=\"https://colab.research.google.com/assets/colab-badge.svg\" alt=\"Open In Colab\"/></a>"
      ]
    },
    {
      "metadata": {
        "id": "M8ADfmGo0Kvu",
        "colab_type": "text"
      },
      "cell_type": "markdown",
      "source": [
        "# Preparation\n"
      ]
    },
    {
      "metadata": {
        "id": "PLKrnRu2_Y8E",
        "colab_type": "text"
      },
      "cell_type": "markdown",
      "source": [
        " ## install pytourch & fastai  \n",
        " \n",
        " [Snippets: Importing libraries](https://colab.research.google.com/notebooks/snippets/importing_libraries.ipynb#scrollTo=n3joqGF1RTry)  \n"
      ]
    },
    {
      "metadata": {
        "id": "cbFjmLeC7e3x",
        "colab_type": "code",
        "colab": {}
      },
      "cell_type": "code",
      "source": [
        "# http://pytorch.org/\n",
        "from os.path import exists\n",
        "from wheel.pep425tags import get_abbr_impl, get_impl_ver, get_abi_tag\n",
        "platform = '{}{}-{}'.format(get_abbr_impl(), get_impl_ver(), get_abi_tag())\n",
        "cuda_output = !ldconfig -p|grep cudart.so|sed -e 's/.*\\.\\([0-9]*\\)\\.\\([0-9]*\\)$/cu\\1\\2/'\n",
        "\n",
        "# accelerator = cuda_output[0] if exists('/dev/nvidia0') else 'cpu'\n",
        "# !pip install -q http://download.pytorch.org/whl/{accelerator}/torch-0.4.1-{platform}-linux_x86_64.whl torchvision\n",
        "\n",
        "accelerator = 'cu80' if exists('/opt/bin/nvidia-smi') else 'cpu'\n",
        "!pip install -q http://download.pytorch.org/whl/{accelerator}/torch-0.4.0-{platform}-linux_x86_64.whl torchvision"
      ],
      "execution_count": 0,
      "outputs": []
    },
    {
      "metadata": {
        "id": "wK8Hb1bX8mao",
        "colab_type": "code",
        "colab": {}
      },
      "cell_type": "code",
      "source": [
        "import torch\n",
        "print(torch.__version__)\n",
        "print(torch.cuda.is_available())\n",
        "print(torch.backends.cudnn.enabled)"
      ],
      "execution_count": 0,
      "outputs": []
    },
    {
      "metadata": {
        "id": "c2fm2RhIF1p8",
        "colab_type": "code",
        "colab": {}
      },
      "cell_type": "code",
      "source": [
        "!pip install --upgrade pandas\n",
        "# !pip install --upgrade matplotlib\n",
        "!pip install --upgrade scipy\n",
        "!pip install --upgrade prompt-toolkit==2.0.7\n"
      ],
      "execution_count": 0,
      "outputs": []
    },
    {
      "metadata": {
        "id": "CZXnZUo4wl-e",
        "colab_type": "text"
      },
      "cell_type": "markdown",
      "source": [
        "The course.fastai student should use fastat 0.7.x.  \n",
        "[fastai](https://github.com/fastai/fastai) より、course.fast.aiを使用する人はfastai 0.7.xをインストールするようにあるので、バージョンを指定してインストールする。"
      ]
    },
    {
      "metadata": {
        "id": "4I9iXY-m60Qh",
        "colab_type": "code",
        "colab": {}
      },
      "cell_type": "code",
      "source": [
        "!pip install fastai==0.7.0\n",
        "!pip install torchtext==0.2.3"
      ],
      "execution_count": 0,
      "outputs": []
    },
    {
      "metadata": {
        "id": "1qGXdgVH26h9",
        "colab_type": "code",
        "colab": {}
      },
      "cell_type": "code",
      "source": [
        "import torch\n",
        "print(torch.__version__)\n",
        "print(torch.cuda.is_available())\n",
        "print(torch.backends.cudnn.enabled)"
      ],
      "execution_count": 0,
      "outputs": []
    },
    {
      "metadata": {
        "id": "t7rikDaDDaV9",
        "colab_type": "code",
        "colab": {}
      },
      "cell_type": "code",
      "source": [
        "!pip install pillow==4.2.1"
      ],
      "execution_count": 0,
      "outputs": []
    },
    {
      "metadata": {
        "id": "QwONW6ZQ0Kv9",
        "colab_type": "code",
        "colab": {}
      },
      "cell_type": "code",
      "source": [
        "# This file contains all the main external libs we'll use\n",
        "from fastai.imports import *"
      ],
      "execution_count": 0,
      "outputs": []
    },
    {
      "metadata": {
        "id": "mwEvFLip0KwE",
        "colab_type": "code",
        "colab": {}
      },
      "cell_type": "code",
      "source": [
        "# the following package includes old directory.\n",
        "# pip fastai not install old directory, we already clone fastai repository to /tmp directory\n",
        "\n",
        "from fastai.transforms import *\n",
        "from fastai.conv_learner import *\n",
        "from fastai.model import *\n",
        "from fastai.dataset import *\n",
        "from fastai.sgdr import *\n",
        "from fastai.plots import *"
      ],
      "execution_count": 0,
      "outputs": []
    },
    {
      "metadata": {
        "id": "paTUKidJ0KwH",
        "colab_type": "text"
      },
      "cell_type": "markdown",
      "source": [
        "`PATH` is the path to your data - if you use the recommended setup approaches from the lesson, you won't need to change this. `sz` is the size that the images will be resized to in order to ensure that the training runs quickly. We'll be talking about this parameter a lot during the course. Leave it at `224` for now."
      ]
    },
    {
      "metadata": {
        "id": "lQzMCQhm0KwK",
        "colab_type": "text"
      },
      "cell_type": "markdown",
      "source": [
        "It's important that you have a working NVidia GPU set up. The programming framework used to behind the scenes to work with NVidia GPUs is called CUDA. Therefore, you need to ensure the following line returns `True` before you proceed. If you have problems with this, please check the FAQ and ask for help on [the forums](http://forums.fast.ai)."
      ]
    },
    {
      "metadata": {
        "id": "NPEgOMEt0KwL",
        "colab_type": "code",
        "colab": {}
      },
      "cell_type": "code",
      "source": [
        "torch.cuda.is_available()"
      ],
      "execution_count": 0,
      "outputs": []
    },
    {
      "metadata": {
        "id": "9W2Q9Xg70KwO",
        "colab_type": "text"
      },
      "cell_type": "markdown",
      "source": [
        "In addition, NVidia provides special accelerated functions for deep learning in a package called CuDNN. Although not strictly necessary, it will improve training performance significantly, and is included by default in all supported fastai configurations. Therefore, if the following does not return `True`, you may want to look into why."
      ]
    },
    {
      "metadata": {
        "id": "IELL3ix50KwO",
        "colab_type": "code",
        "colab": {}
      },
      "cell_type": "code",
      "source": [
        "torch.backends.cudnn.enabled"
      ],
      "execution_count": 0,
      "outputs": []
    },
    {
      "metadata": {
        "id": "q3OmDRnlXSXy",
        "colab_type": "text"
      },
      "cell_type": "markdown",
      "source": [
        "# Prepare dataset"
      ]
    },
    {
      "metadata": {
        "id": "DzWlhawWZDFG",
        "colab_type": "text"
      },
      "cell_type": "markdown",
      "source": [
        "## dogs and cats"
      ]
    },
    {
      "metadata": {
        "id": "X1Bun7JK0KwR",
        "colab_type": "text"
      },
      "cell_type": "markdown",
      "source": [
        "The dataset is available at http://files.fast.ai/data/dogscats.zip. You can download it directly on your server by running the following line in your terminal. `wget http://files.fast.ai/data/dogscats.zip`. You should put the data in a subdirectory of this notebook's directory, called `data/`. Note that this data is already available in Crestle and the Paperspace fast.ai template."
      ]
    },
    {
      "metadata": {
        "id": "pCqr13CSXmAo",
        "colab_type": "code",
        "colab": {}
      },
      "cell_type": "code",
      "source": [
        "%%bash\n",
        "mkdir -p data"
      ],
      "execution_count": 0,
      "outputs": []
    },
    {
      "metadata": {
        "id": "WXpoTBqrPOvP",
        "colab_type": "code",
        "outputId": "cd9fe54d-24b9-453b-f09a-d1768c60d5ae",
        "colab": {
          "base_uri": "https://localhost:8080/",
          "height": 269
        }
      },
      "cell_type": "code",
      "source": [
        "! cd data; wget http://files.fast.ai/data/dogscats.zip && unzip dogscats.zip"
      ],
      "execution_count": 2,
      "outputs": [
        {
          "output_type": "stream",
          "text": [
            "--2018-10-31 09:13:00--  http://files.fast.ai/data/dogscats.zip\n",
            "Resolving files.fast.ai (files.fast.ai)... 67.205.15.147\n",
            "Connecting to files.fast.ai (files.fast.ai)|67.205.15.147|:80... connected.\n",
            "HTTP request sent, awaiting response... 200 OK\n",
            "Length: 857214334 (818M) [application/zip]\n",
            "Saving to: ‘dogscats.zip.1’\n",
            "\n",
            "dogscats.zip.1      100%[===================>] 817.50M  42.3MB/s    in 20s     \n",
            "\n",
            "2018-10-31 09:13:21 (40.8 MB/s) - ‘dogscats.zip.1’ saved [857214334/857214334]\n",
            "\n",
            "Archive:  dogscats.zip\n",
            "replace dogscats/sample/train/cats/cat.2921.jpg? [y]es, [n]o, [A]ll, [N]one, [r]ename: None\n"
          ],
          "name": "stdout"
        }
      ]
    },
    {
      "metadata": {
        "id": "1KfPrxFnZgFR",
        "colab_type": "code",
        "colab": {
          "base_uri": "https://localhost:8080/",
          "height": 65
        },
        "outputId": "bebcdbf5-3aed-48ef-b594-9e0dc4d75223"
      },
      "cell_type": "code",
      "source": [
        "!ls /content/data/dogscats"
      ],
      "execution_count": 3,
      "outputs": [
        {
          "output_type": "stream",
          "text": [
            "models\tsample\ttest1  train  valid\n"
          ],
          "name": "stdout"
        }
      ]
    },
    {
      "metadata": {
        "id": "2VwZ8fdDZpT5",
        "colab_type": "text"
      },
      "cell_type": "markdown",
      "source": [
        "## dog breed"
      ]
    },
    {
      "metadata": {
        "id": "UilW0wsyamf6",
        "colab_type": "text"
      },
      "cell_type": "markdown",
      "source": [
        "### dataset"
      ]
    },
    {
      "metadata": {
        "id": "yXYP5WezZvgL",
        "colab_type": "text"
      },
      "cell_type": "markdown",
      "source": [
        "Kaggle Dog Breed Identification. Get data from https://www.kaggle.com/c/dog-breed-identification"
      ]
    },
    {
      "metadata": {
        "id": "hw1x-KViZzr6",
        "colab_type": "code",
        "colab": {}
      },
      "cell_type": "code",
      "source": [
        "%%bash\n",
        "mkdir -p data/dogbreeds"
      ],
      "execution_count": 0,
      "outputs": []
    },
    {
      "metadata": {
        "id": "xRvwqbOlaUPq",
        "colab_type": "code",
        "colab": {}
      },
      "cell_type": "code",
      "source": [
        "!pip install kaggle"
      ],
      "execution_count": 0,
      "outputs": []
    },
    {
      "metadata": {
        "id": "OvFTOx8ZZ32q",
        "colab_type": "code",
        "colab": {
          "base_uri": "https://localhost:8080/",
          "height": 490
        },
        "outputId": "fd898676-c961-4e7f-9a3c-8b7afcbbf007"
      },
      "cell_type": "code",
      "source": [
        "! echo '{\"username\":\"xxx\",\"key\":\"xxx\"}' > /root/.kaggle/kaggle.json\n",
        "! chmod 600 /root/.kaggle/kaggle.json\n",
        "! kaggle competitions list\n",
        "! cd data/dogbreed; kaggle competitions download -c dog-breed-identification"
      ],
      "execution_count": 5,
      "outputs": [
        {
          "output_type": "stream",
          "text": [
            "ref                                            deadline             category            reward  teamCount  userHasEntered  \n",
            "---------------------------------------------  -------------------  ---------------  ---------  ---------  --------------  \n",
            "digit-recognizer                               2030-01-01 00:00:00  Getting Started  Knowledge       2754           False  \n",
            "titanic                                        2030-01-01 00:00:00  Getting Started  Knowledge       9927            True  \n",
            "house-prices-advanced-regression-techniques    2030-01-01 00:00:00  Getting Started  Knowledge       4340            True  \n",
            "imagenet-object-localization-challenge         2029-12-31 07:00:00  Research         Knowledge         27           False  \n",
            "competitive-data-science-predict-future-sales  2019-12-31 23:59:00  Playground           Kudos       1674           False  \n",
            "pubg-finish-placement-prediction               2019-01-30 23:59:00  Playground            Swag        349           False  \n",
            "human-protein-atlas-image-classification       2019-01-10 23:59:00  Featured           $37,000        608           False  \n",
            "two-sigma-financial-news                       2019-01-08 23:59:00  Featured          $100,000       1287           False  \n",
            "PLAsTiCC-2018                                  2018-12-17 23:59:00  Featured           $25,000        421           False  \n",
            "quickdraw-doodle-recognition                   2018-12-04 23:59:00  Featured           $25,000        555           False  \n",
            "ga-customer-revenue-prediction                 2018-11-30 23:59:00  Featured           $45,000       3232           False  \n",
            "airbus-ship-detection                          2018-11-14 23:59:00  Featured           $60,000        582           False  \n",
            "inclusive-images-challenge                     2018-11-05 23:59:00  Research           $25,000        434           False  \n",
            "rsna-pneumonia-detection-challenge             2018-10-31 23:59:00  Featured           $30,000        353           False  \n",
            "tgs-salt-identification-challenge              2018-10-19 23:59:00  Featured          $100,000       3234           False  \n",
            "new-york-city-taxi-fare-prediction             2018-09-25 23:59:00  Playground       Knowledge       1488           False  \n",
            "forest-cover-type-kernels-only                 2018-09-24 23:59:00  Playground       Knowledge        359           False  \n",
            "demand-forecasting-kernels-only                2018-09-24 23:59:00  Playground       Knowledge        462           False  \n",
            "whats-cooking-kernels-only                     2018-09-24 23:59:00  Playground       Knowledge        523           False  \n",
            "flavours-of-physics-kernels-only               2018-09-24 23:59:00  Playground       Knowledge         64           False  \n",
            "labels.csv.zip: Skipping, found more recently modified local copy (use --force to force download)\n",
            "sample_submission.csv.zip: Skipping, found more recently modified local copy (use --force to force download)\n",
            "test.zip: Skipping, found more recently modified local copy (use --force to force download)\n",
            "train.zip: Skipping, found more recently modified local copy (use --force to force download)\n"
          ],
          "name": "stdout"
        }
      ]
    },
    {
      "metadata": {
        "id": "WksjnMiPZ8Xw",
        "colab_type": "code",
        "colab": {}
      },
      "cell_type": "code",
      "source": [
        "!ls /content/data/dogbreeds"
      ],
      "execution_count": 0,
      "outputs": []
    },
    {
      "metadata": {
        "id": "6v3ZJkgfaBJV",
        "colab_type": "code",
        "colab": {
          "base_uri": "https://localhost:8080/",
          "height": 184
        },
        "outputId": "a1060159-3d63-438f-8aca-54d5ce7c5284"
      },
      "cell_type": "code",
      "source": [
        "! cd /content/data/dogbreeds && unzip labels.csv.zip\n",
        "! cd /content/data/dogbreeds && unzip sample_submission.csv.zip\n",
        "! cd /content/data/dogbreeds && unzip test.zip\n",
        "! cd /content/data/dogbreeds && unzip train.zip"
      ],
      "execution_count": 6,
      "outputs": [
        {
          "output_type": "stream",
          "text": [
            "Archive:  labels.csv.zip\n",
            "replace labels.csv? [y]es, [n]o, [A]ll, [N]one, [r]ename: None\n",
            "Archive:  sample_submission.csv.zip\n",
            "replace sample_submission.csv? [y]es, [n]o, [A]ll, [N]one, [r]ename: None\n",
            "Archive:  test.zip\n",
            "replace test/000621fb3cbb32d8935728e48679680e.jpg? [y]es, [n]o, [A]ll, [N]one, [r]ename: None\n",
            "Archive:  train.zip\n",
            "replace train/000bec180eb18c7604dcecc8fe0dba07.jpg? [y]es, [n]o, [A]ll, [N]one, [r]ename: None\n"
          ],
          "name": "stdout"
        }
      ]
    },
    {
      "metadata": {
        "id": "p6pjqxCGaHlh",
        "colab_type": "code",
        "colab": {
          "base_uri": "https://localhost:8080/",
          "height": 82
        },
        "outputId": "226bc172-e0c0-444f-e3ae-a7f1ba26bd98"
      },
      "cell_type": "code",
      "source": [
        "!ls /content/data/dogbreed"
      ],
      "execution_count": 7,
      "outputs": [
        {
          "output_type": "stream",
          "text": [
            "labels.csv\tsample_submission.csv\t   test      tmp    train.zip\n",
            "labels.csv.zip\tsample_submission.csv.zip  test.zip  train\n"
          ],
          "name": "stdout"
        }
      ]
    },
    {
      "metadata": {
        "id": "Hn_hS9omapK3",
        "colab_type": "text"
      },
      "cell_type": "markdown",
      "source": [
        "## precomputed files"
      ]
    },
    {
      "metadata": {
        "id": "ronTMJrpa1q7",
        "colab_type": "code",
        "colab": {
          "base_uri": "https://localhost:8080/",
          "height": 204
        },
        "outputId": "c4a33a4b-a188-4a73-9c46-4dfb7a025c90"
      },
      "cell_type": "code",
      "source": [
        "! wget http://files.fast.ai/models/weights.tgz"
      ],
      "execution_count": 9,
      "outputs": [
        {
          "output_type": "stream",
          "text": [
            "--2018-10-31 09:20:35--  http://files.fast.ai/models/weights.tgz\n",
            "Resolving files.fast.ai (files.fast.ai)... 67.205.15.147\n",
            "Connecting to files.fast.ai (files.fast.ai)|67.205.15.147|:80... connected.\n",
            "HTTP request sent, awaiting response... 200 OK\n",
            "Length: 1195411318 (1.1G) [text/plain]\n",
            "Saving to: ‘weights.tgz’\n",
            "\n",
            "weights.tgz         100%[===================>]   1.11G  42.4MB/s    in 28s     \n",
            "\n",
            "2018-10-31 09:21:02 (41.3 MB/s) - ‘weights.tgz’ saved [1195411318/1195411318]\n",
            "\n"
          ],
          "name": "stdout"
        }
      ]
    },
    {
      "metadata": {
        "id": "0Op5fWR0b0q0",
        "colab_type": "code",
        "colab": {
          "base_uri": "https://localhost:8080/",
          "height": 167
        },
        "outputId": "86d374b8-b6cc-4c22-c6c4-02ab57b97dc5"
      },
      "cell_type": "code",
      "source": [
        "! tar tvfz weights.tgz"
      ],
      "execution_count": 10,
      "outputs": [
        {
          "output_type": "stream",
          "text": [
            "drwxrwxr-x jhoward/jhoward   0 2017-11-04 13:00 weights/\n",
            "-rw-rw-r-- jhoward/jhoward 275838459 2017-06-07 03:37 weights/wrn_50_2f.pth\n",
            "-rw-rw-r-- jhoward/jhoward 177328111 2017-06-07 03:46 weights/resnext_101_32x4d.pth\n",
            "-rw-rw-r-- jhoward/jhoward 334698549 2017-06-07 03:45 weights/resnext_101_64x4d.pth\n",
            "-rw-rw-r-- jhoward/jhoward 223846400 2017-01-31 16:23 weights/inceptionresnetv2-d579a627.pth\n",
            "-rw-rw-r-- jhoward/jhoward 171130880 2017-02-04 22:57 weights/inceptionv4-97ef9c30.pth\n",
            "-rw-rw-r-- jhoward/jhoward 100421395 2017-06-07 03:46 weights/resnext_50_32x4d.pth\n"
          ],
          "name": "stdout"
        }
      ]
    },
    {
      "metadata": {
        "id": "Ld_Sfzzibm7I",
        "colab_type": "code",
        "colab": {
          "base_uri": "https://localhost:8080/",
          "height": 167
        },
        "outputId": "6f66a6f0-7e2a-4146-dc00-4b82ad4334e3"
      },
      "cell_type": "code",
      "source": [
        "! tar xvfz weights.tgz -C /usr/local/lib/python3.6/dist-packages/fastai"
      ],
      "execution_count": 11,
      "outputs": [
        {
          "output_type": "stream",
          "text": [
            "weights/\n",
            "weights/wrn_50_2f.pth\n",
            "weights/resnext_101_32x4d.pth\n",
            "weights/resnext_101_64x4d.pth\n",
            "weights/inceptionresnetv2-d579a627.pth\n",
            "weights/inceptionv4-97ef9c30.pth\n",
            "weights/resnext_50_32x4d.pth\n"
          ],
          "name": "stdout"
        }
      ]
    }
  ]
}